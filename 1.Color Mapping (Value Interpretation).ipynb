{
 "cells": [
  {
   "cell_type": "markdown",
   "metadata": {},
   "source": [
    "<h1><center><font color=\"Tomato\"><bold> RGB to HSV</bold></font></center> </h1>"
   ]
  },
  {
   "cell_type": "markdown",
   "metadata": {},
   "source": [
    "<h2> <font color=\"blue\">  Conversion of RGB to HSV using cvtColor </font></h2>"
   ]
  },
  {
   "cell_type": "code",
   "execution_count": 1,
   "metadata": {},
   "outputs": [
    {
     "name": "stdout",
     "output_type": "stream",
     "text": [
      "HSV Image:\n",
      " [[[  0 255 255]\n",
      "  [ 60 255 255]\n",
      "  [120 255 255]]\n",
      "\n",
      " [[ 30 255 255]\n",
      "  [ 90 255 255]\n",
      "  [150 255 255]]\n",
      "\n",
      " [[105 109 245]\n",
      "  [  0   0 128]\n",
      "  [  0   0  64]]]\n"
     ]
    },
    {
     "data": {
      "image/png": "[encoded data removed]",
      "text/plain": [
       "<Figure size 432x288 with 1 Axes>"
      ]
     },
     "metadata": {
      "needs_background": "light"
     },
     "output_type": "display_data"
    }
   ],
   "source": [
    "import cv2\n",
    "import matplotlib.pyplot as plt\n",
    "import numpy as np\n",
    "\n",
    "# Sample RGB image\n",
    "rgb_image = np.array([[[255, 0, 0], [0, 255, 0], [0, 0, 255]],\n",
    "                      [[255, 255, 0], [0, 255, 255], [255, 0, 255]],\n",
    "                      [[140, 191, 245], [128, 128, 128], [64, 64, 64]]], dtype=np.uint8)\n",
    "plt.imshow(rgb_image)\n",
    "\n",
    "# Convert RGB to HSV using OpenCV\n",
    "hsv_image = cv2.cvtColor(rgb_image, cv2.COLOR_RGB2HSV)\n",
    "\n",
    "print(\"HSV Image:\\n\", hsv_image)\n",
    "\n"
   ]
  },
  {
   "cell_type": "code",
   "execution_count": 18,
   "metadata": {},
   "outputs": [
    {
     "data": {
      "text/plain": [
       "<matplotlib.image.AxesImage at 0x285e378f430>"
      ]
     },
     "execution_count": 18,
     "metadata": {},
     "output_type": "execute_result"
    },
    {
     "data": {
      "image/png": "[encoded data removed]",
      "text/plain": [
       "<Figure size 432x288 with 1 Axes>"
      ]
     },
     "metadata": {
      "needs_background": "light"
     },
     "output_type": "display_data"
    }
   ],
   "source": [
    "plt.imshow(hsv_image)"
   ]
  },
  {
   "cell_type": "code",
   "execution_count": 19,
   "metadata": {},
   "outputs": [
    {
     "data": {
      "text/plain": [
       "(3, 3, 3)"
      ]
     },
     "execution_count": 19,
     "metadata": {},
     "output_type": "execute_result"
    }
   ],
   "source": [
    "rgb_image.shape\n"
   ]
  },
  {
   "cell_type": "markdown",
   "metadata": {},
   "source": [
    "<h2> <font color=\"blue\"> Custom function to convert RGB to CSV </font></h2>"
   ]
  },
  {
   "cell_type": "code",
   "execution_count": 20,
   "metadata": {},
   "outputs": [
    {
     "name": "stdout",
     "output_type": "stream",
     "text": [
      "HSV Color (Custom Function): (210.86, 42.86, 96.08)\n"
     ]
    }
   ],
   "source": [
    "def rgb_to_hsv(r, g, b):\n",
    "    r, g, b = r / 255.0, g / 255.0, b / 255.0\n",
    "    max_val = max(r, g, b)\n",
    "    min_val = min(r, g, b)\n",
    "    delta = max_val - min_val\n",
    "    \n",
    "    # Hue calculation\n",
    "    if delta == 0:\n",
    "        h = 0\n",
    "    elif max_val == r:\n",
    "        h = (60 * ((g - b) / delta) + 360) % 360\n",
    "    elif max_val == g:\n",
    "        h = (60 * ((b - r) / delta) + 120) % 360\n",
    "    elif max_val == b:\n",
    "        h = (60 * ((r - g) / delta) + 240) % 360\n",
    "    \n",
    "    # Saturation calculation\n",
    "    if max_val == 0:\n",
    "        s = 0\n",
    "    else:\n",
    "        s = (delta / max_val) * 100\n",
    "    \n",
    "    # Value calculation\n",
    "    v = max_val * 100\n",
    "    \n",
    "    return h, s, v\n",
    "\n",
    "# Convert (140, 191, 245) to HSV\n",
    "r, g, b = 140, 191, 245\n",
    "h, s, v = rgb_to_hsv(r, g, b)\n",
    "print(f\"HSV Color (Custom Function): ({h:.2f}, {s:.2f}, {v:.2f})\")\n"
   ]
  },
  {
   "cell_type": "markdown",
   "metadata": {},
   "source": [
    "<h2> <font color= \"blue\"> Conversion of standard range to Open CV </font> </h2>"
   ]
  },
  {
   "cell_type": "code",
   "execution_count": 21,
   "metadata": {},
   "outputs": [
    {
     "name": "stdout",
     "output_type": "stream",
     "text": [
      "Standard HSV:  (210.000, 0.427, 0.961)\n"
     ]
    }
   ],
   "source": [
    "import cv2\n",
    "import numpy as np\n",
    "\n",
    "# RGB value\n",
    "rgb_color = np.uint8([[[140, 191, 245]]])\n",
    "\n",
    "# Convert RGB to HSV using OpenCV\n",
    "hsv_color = cv2.cvtColor(rgb_color, cv2.COLOR_RGB2HSV)[0][0]\n",
    "\n",
    "# Convert OpenCV HSV to standard HSV ranges\n",
    "h = hsv_color[0] * 2  # OpenCV Hue range [0, 179] to standard [0, 360]\n",
    "s = hsv_color[1] / 255  # OpenCV Saturation range [0, 255] to standard [0, 1]\n",
    "v = hsv_color[2] / 255  # OpenCV Value range [0, 255] to standard [0, 1]\n",
    "\n",
    "print(f\"Standard HSV:  ({h:.3f}, {s:.3f}, {v:.3f})\")\n"
   ]
  },
  {
   "cell_type": "code",
   "execution_count": null,
   "metadata": {},
   "outputs": [],
   "source": []
  }
 ],
 "metadata": {
  "kernelspec": {
   "display_name": "Python 3",
   "language": "python",
   "name": "python3"
  },
  "language_info": {
   "codemirror_mode": {
    "name": "ipython",
    "version": 3
   },
   "file_extension": ".py",
   "mimetype": "text/x-python",
   "name": "python",
   "nbconvert_exporter": "python",
   "pygments_lexer": "ipython3",
   "version": "3.8.3"
  }
 },
 "nbformat": 4,
 "nbformat_minor": 4
}
